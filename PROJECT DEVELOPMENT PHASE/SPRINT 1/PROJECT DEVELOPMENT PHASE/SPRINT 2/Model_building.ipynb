{
  "nbformat": 4,
  "nbformat_minor": 0,
  "metadata": {
    "colab": {
      "provenance": []
    },
    "kernelspec": {
      "name": "python3",
      "display_name": "Python 3"
    },
    "language_info": {
      "name": "python"
    }
  },
  "cells": [
    {
      "cell_type": "code",
      "execution_count": 1,
      "metadata": {
        "id": "aF-KdRdH1b-y"
      },
      "outputs": [],
      "source": [
        "##Importing The Required Libraries\n",
        "import numpy as np\n",
        "import tensorflow #open source used for both ML and DL for computation\n",
        "from tensorflow.keras.datasets import mnist #mnist dataset\n",
        "from tensorflow.keras.models import Sequential #it is a plain stack of layers\n",
        "from tensorflow.keras import layers #A Layer consists of a tensor- in tensor-out computat ion funct ion\n",
        "from tensorflow.keras.layers import Dense, Flatten #Dense-Dense Layer is the regular deeply connected r\n",
        "#faltten -used fot flattening the input or change the dimension\n",
        "from tensorflow.keras.layers import Conv2D #onvoLutiona l Layer\n",
        "from keras.optimizers import Adam #opt imizer\n",
        "from keras. utils import np_utils #used for one-hot encoding\n",
        "import matplotlib.pyplot as plt   #used for data visualization"
      ]
    },
    {
      "cell_type": "code",
      "source": [
        "(x_train, y_train), (x_test, y_test)=mnist.load_data ()\n",
        "x_train=x_train.reshape (60000, 28, 28, 1).astype('float32')\n",
        "x_test=x_test.reshape (10000, 28, 28, 1).astype ('float32')\n",
        "number_of_classes = 10  #storing the no of classes in a variable\n",
        "y_train = np_utils.to_categorical (y_train, number_of_classes) #converts the output in binary format\n",
        "y_test = np_utils.to_categorical (y_test, number_of_classes)"
      ],
      "metadata": {
        "colab": {
          "base_uri": "https://localhost:8080/"
        },
        "id": "I-tG-Fot1l6V",
        "outputId": "2d153d61-6c34-4c53-8904-3d1967bc8c5a"
      },
      "execution_count": 2,
      "outputs": [
        {
          "output_type": "stream",
          "name": "stdout",
          "text": [
            "Downloading data from https://storage.googleapis.com/tensorflow/tf-keras-datasets/mnist.npz\n",
            "11490434/11490434 [==============================] - 0s 0us/step\n"
          ]
        }
      ]
    },
    {
      "cell_type": "code",
      "source": [
        "##Adding The CNN Layers\n",
        "#create model\n",
        "model=Sequential ()"
      ],
      "metadata": {
        "id": "pwsjDeTu1nNY"
      },
      "execution_count": 3,
      "outputs": []
    },
    {
      "cell_type": "code",
      "source": [
        "#adding modeL Layer\n",
        "model.add(Conv2D(64, (3, 3), input_shape=(28, 28, 1), activation='relu'))\n",
        "model.add(Conv2D(32, (3, 3), activation = 'relu'))"
      ],
      "metadata": {
        "id": "bP-8q8qL1q5G"
      },
      "execution_count": 4,
      "outputs": []
    },
    {
      "cell_type": "code",
      "source": [
        "#flatten the dimension of the image\n",
        "model.add(Flatten())"
      ],
      "metadata": {
        "id": "OJVa1Dts1vrm"
      },
      "execution_count": 5,
      "outputs": []
    },
    {
      "cell_type": "code",
      "source": [
        "#output layer with 10 neurons\n",
        "model.add(Dense(number_of_classes,activation = 'softmax'))\n"
      ],
      "metadata": {
        "id": "5TURRJOB1ydJ"
      },
      "execution_count": 6,
      "outputs": []
    },
    {
      "cell_type": "code",
      "source": [
        "##Compiling The Model\n",
        "model.compile(loss= 'categorical_crossentropy', optimizer=\"Adam\", metrics=['accuracy'])\n"
      ],
      "metadata": {
        "id": "JdqdCulO12ZJ"
      },
      "execution_count": 7,
      "outputs": []
    },
    {
      "cell_type": "code",
      "source": [
        "x_train = np.asarray(x_train)\n",
        "y_train = np.asarray(y_train)"
      ],
      "metadata": {
        "id": "pZhvVSuo18EX"
      },
      "execution_count": 8,
      "outputs": []
    },
    {
      "cell_type": "code",
      "source": [
        "##Train The Model\n",
        "#fit the model\n",
        "model.fit(x_train, y_train, validation_data=(x_test, y_test), epochs=5, batch_size=32)"
      ],
      "metadata": {
        "colab": {
          "base_uri": "https://localhost:8080/"
        },
        "id": "VPNMwesL2BUj",
        "outputId": "391fa486-5f71-4f1f-82da-d38a04eedb2b"
      },
      "execution_count": 9,
      "outputs": [
        {
          "output_type": "stream",
          "name": "stdout",
          "text": [
            "Epoch 1/5\n",
            "1875/1875 [==============================] - 181s 96ms/step - loss: 0.2697 - accuracy: 0.9474 - val_loss: 0.0956 - val_accuracy: 0.9724\n",
            "Epoch 2/5\n",
            "1875/1875 [==============================] - 169s 90ms/step - loss: 0.0740 - accuracy: 0.9773 - val_loss: 0.0849 - val_accuracy: 0.9770\n",
            "Epoch 3/5\n",
            "1875/1875 [==============================] - 168s 90ms/step - loss: 0.0506 - accuracy: 0.9840 - val_loss: 0.0984 - val_accuracy: 0.9723\n",
            "Epoch 4/5\n",
            "1875/1875 [==============================] - 167s 89ms/step - loss: 0.0394 - accuracy: 0.9881 - val_loss: 0.0943 - val_accuracy: 0.9759\n",
            "Epoch 5/5\n",
            "1875/1875 [==============================] - 168s 90ms/step - loss: 0.0292 - accuracy: 0.9906 - val_loss: 0.1093 - val_accuracy: 0.9748\n"
          ]
        },
        {
          "output_type": "execute_result",
          "data": {
            "text/plain": [
              "<keras.callbacks.History at 0x7f48f13a0910>"
            ]
          },
          "metadata": {},
          "execution_count": 9
        }
      ]
    },
    {
      "cell_type": "code",
      "source": [
        "##Observing The Metrics\n",
        "# Final evaluation of the model\n",
        "metrics = model.evaluate(x_test, y_test, verbose=0)\n",
        "print(\"Metrics (Test loss &Test Accuracy) : \")\n",
        "print(metrics)"
      ],
      "metadata": {
        "colab": {
          "base_uri": "https://localhost:8080/"
        },
        "id": "9vEctpxJ2JyW",
        "outputId": "4470525d-d378-478a-e265-a45abd5ad6e0"
      },
      "execution_count": 11,
      "outputs": [
        {
          "output_type": "stream",
          "name": "stdout",
          "text": [
            "Metrics (Test loss &Test Accuracy) : \n",
            "[0.10933602601289749, 0.9747999906539917]\n"
          ]
        }
      ]
    },
    {
      "cell_type": "code",
      "source": [
        "prediction=model.predict(x_test[6000:6001])\n",
        "print(prediction)"
      ],
      "metadata": {
        "colab": {
          "base_uri": "https://localhost:8080/"
        },
        "id": "9fk1aPlC2LAr",
        "outputId": "fcace479-d430-4156-875e-00ff7f382cdd"
      },
      "execution_count": 12,
      "outputs": [
        {
          "output_type": "stream",
          "name": "stdout",
          "text": [
            "1/1 [==============================] - 0s 94ms/step\n",
            "[[3.2349678e-12 9.1044547e-11 3.7548296e-14 2.3058419e-06 2.9984025e-05\n",
            "  1.0047121e-06 1.0070949e-10 6.5887527e-04 7.9466467e-05 9.9922836e-01]]\n"
          ]
        }
      ]
    },
    {
      "cell_type": "code",
      "source": [
        "(x_train,y_train),(x_test,y_test) =mnist.load_data()\n",
        "print(x_train.shape)\n",
        "print(x_test.shape)\n",
        "print(y_test.shape)\n",
        "print(y_train.shape)"
      ],
      "metadata": {
        "colab": {
          "base_uri": "https://localhost:8080/"
        },
        "id": "t77GaEhk7xR0",
        "outputId": "2221938c-834c-48e5-fc01-a25391a641d0"
      },
      "execution_count": 21,
      "outputs": [
        {
          "output_type": "stream",
          "name": "stdout",
          "text": [
            "(60000, 28, 28)\n",
            "(10000, 28, 28)\n",
            "(10000,)\n",
            "(60000,)\n"
          ]
        }
      ]
    },
    {
      "cell_type": "code",
      "source": [
        "plt.imshow(x_test[6000])"
      ],
      "metadata": {
        "colab": {
          "base_uri": "https://localhost:8080/",
          "height": 282
        },
        "id": "VSEo4-Zo79Kt",
        "outputId": "d65cebd3-ec89-472d-85f4-43b27d480e3d"
      },
      "execution_count": 23,
      "outputs": [
        {
          "output_type": "execute_result",
          "data": {
            "text/plain": [
              "<matplotlib.image.AxesImage at 0x7f48ed937550>"
            ]
          },
          "metadata": {},
          "execution_count": 23
        },
        {
          "output_type": "display_data",
          "data": {
            "text/plain": [
              "<Figure size 432x288 with 1 Axes>"
            ],
            "image/png": "[encoded data removed]"
          },
          "metadata": {
            "needs_background": "light"
          }
        }
      ]
    },
    {
      "cell_type": "code",
      "source": [
        "np.argmax(y_test[6000:6001]) #printing the actual labels"
      ],
      "metadata": {
        "colab": {
          "base_uri": "https://localhost:8080/"
        },
        "id": "8ieoBwjW2WQz",
        "outputId": "ed26dd7b-b351-4f6b-e67a-6eecf772d117"
      },
      "execution_count": 15,
      "outputs": [
        {
          "output_type": "execute_result",
          "data": {
            "text/plain": [
              "9"
            ]
          },
          "metadata": {},
          "execution_count": 15
        }
      ]
    },
    {
      "cell_type": "code",
      "source": [
        "##Saving The Model\n",
        "model.save('models/mnistCNN.h5')"
      ],
      "metadata": {
        "id": "vJIcvSKx2cvS"
      },
      "execution_count": 24,
      "outputs": []
    }
  ]
}