{
  "nbformat": 4,
  "nbformat_minor": 0,
  "metadata": {
    "colab": {
      "provenance": []
    },
    "kernelspec": {
      "name": "python3",
      "display_name": "Python 3"
    },
    "language_info": {
      "name": "python"
    }
  },
  "cells": [
    {
      "cell_type": "code",
      "execution_count": null,
      "metadata": {
        "id": "Sj635TQJlwML"
      },
      "outputs": [],
      "source": [
        ".body{\n",
        "    background-image: url(/static/css/assets/image2.jpg);\n",
        "    background-repeat: no-repeat;\n",
        "    background-size: cover;\n",
        "    min-height: 100vh;\n",
        "}\n",
        ".nav-link{\n",
        "    margin-right: 50px;\n",
        "}\n",
        ".nav-item{\n",
        "    font-family: 'Times New Roman', Times, serif;\n",
        "    font-size: medium;\n",
        "    font-weight: 700;\n",
        "}\n",
        ".nav-item:hover{\n",
        "    text-shadow: 2px 2px 2px gray;\n",
        "}\n",
        "\n",
        ".brand{\n",
        "    margin-left: 50px;\n",
        "}\n",
        ".form{\n",
        "    margin-top:70px;\n",
        "    margin-left: 100px;\n",
        "    width: 400px;\n",
        "}\n",
        ".title{\n",
        "    color: white;\n",
        "    font-size: 40px;\n",
        "    color: rgb(51, 103, 245);\n",
        "    margin-bottom: 7%;\n",
        "    font-family: 'Times New Roman', Times, serif;\n",
        "    \n",
        "}\n",
        ".image{\n",
        "    font-family: 'Times New Roman', Times, serif;\n",
        "    margin-bottom: 10px;\n",
        "    font-size: large;\n",
        "    font-weight: 500;\n",
        "    color: rgb(51, 103, 245);\n",
        "}\n",
        ".submit{\n",
        "    margin-left: 140px;\n",
        "}\n",
        ".button{\n",
        "    margin-top: 50px;\n",
        "}"
      ]
    }
  ]
}